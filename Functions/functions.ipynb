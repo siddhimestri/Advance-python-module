{
 "cells": [
  {
   "cell_type": "markdown",
   "metadata": {},
   "source": [
    "Variadic Functions"
   ]
  },
  {
   "cell_type": "code",
   "execution_count": 1,
   "metadata": {},
   "outputs": [],
   "source": [
    "def add(x,y):\n",
    "    '''\n",
    "    Inputs: Takes 2 inputs x and y\n",
    "    Outputs: Returns one output that contains sum of x and y\n",
    "    '''\n",
    "    add_2 = x+y\n",
    "    return add_2"
   ]
  },
  {
   "cell_type": "code",
   "execution_count": 2,
   "metadata": {},
   "outputs": [],
   "source": [
    "#add(23,45,67,43)"
   ]
  },
  {
   "cell_type": "code",
   "execution_count": 3,
   "metadata": {},
   "outputs": [],
   "source": [
    "def add(*args):\n",
    "    for i in args:\n",
    "        print(i)"
   ]
  },
  {
   "cell_type": "code",
   "execution_count": 4,
   "metadata": {},
   "outputs": [
    {
     "name": "stdout",
     "output_type": "stream",
     "text": [
      "23\n",
      "45\n",
      "67\n",
      "43\n"
     ]
    }
   ],
   "source": [
    "add(23,45,67,43)"
   ]
  },
  {
   "cell_type": "code",
   "execution_count": 5,
   "metadata": {},
   "outputs": [],
   "source": [
    "def add(*args):\n",
    "    s = 0\n",
    "    for i in args:\n",
    "        s = s+i\n",
    "        # args = 23,45,67,43\n",
    "        # i=0, s=0+23=23\n",
    "        # i=1,s=23+45 = 68\n",
    "        #i=2, s=68+67=135\n",
    "        #i=3,s=135+43=178\n",
    "    return s  #178"
   ]
  },
  {
   "cell_type": "code",
   "execution_count": 6,
   "metadata": {},
   "outputs": [
    {
     "name": "stdout",
     "output_type": "stream",
     "text": [
      "178\n"
     ]
    }
   ],
   "source": [
    "sum_args = add(23,45,67,43)\n",
    "print(sum_args)\n"
   ]
  },
  {
   "cell_type": "code",
   "execution_count": 7,
   "metadata": {},
   "outputs": [
    {
     "name": "stdout",
     "output_type": "stream",
     "text": [
      "25\n"
     ]
    }
   ],
   "source": [
    "sum_a1 = add(25)\n",
    "print(sum_a1)\n"
   ]
  },
  {
   "cell_type": "code",
   "execution_count": 8,
   "metadata": {},
   "outputs": [],
   "source": [
    "def multiply(x,*args):\n",
    "    p = 1\n",
    "    for i in args:\n",
    "        p = p*i\n",
    "    return f\"product performed by {x} is {p}\""
   ]
  },
  {
   "cell_type": "code",
   "execution_count": 9,
   "metadata": {},
   "outputs": [
    {
     "data": {
      "text/plain": [
       "'product performed by sindhu is 240'"
      ]
     },
     "execution_count": 9,
     "metadata": {},
     "output_type": "execute_result"
    }
   ],
   "source": [
    "m1 = multiply(\"sindhu\",2,3,4,10)\n",
    "m1"
   ]
  },
  {
   "cell_type": "code",
   "execution_count": 10,
   "metadata": {},
   "outputs": [],
   "source": [
    "def multiply_2(x,*args):\n",
    "    p = 1\n",
    "    for i in args:\n",
    "        p = p*i\n",
    "    welcome = f\"Welcome {x}\"\n",
    "    return f\"{welcome} : product of the provided data is {p}\""
   ]
  },
  {
   "cell_type": "code",
   "execution_count": 11,
   "metadata": {},
   "outputs": [],
   "source": [
    "def multiply_2(x,*args):\n",
    "    p = 1\n",
    "    for i in args:\n",
    "        p = p*i\n",
    "    welcome = f\"Welcome {x}\"\n",
    "    return f\"{welcome} : product of the provided data is {p}\""
   ]
  },
  {
   "cell_type": "code",
   "execution_count": 12,
   "metadata": {},
   "outputs": [],
   "source": [
    "m2 = multiply_2(\"sindhu\",3,67,10,10)"
   ]
  },
  {
   "cell_type": "code",
   "execution_count": 13,
   "metadata": {},
   "outputs": [
    {
     "data": {
      "text/plain": [
       "'Welcome sindhu : product of the provided data is 20100'"
      ]
     },
     "execution_count": 13,
     "metadata": {},
     "output_type": "execute_result"
    }
   ],
   "source": [
    "m2"
   ]
  },
  {
   "cell_type": "markdown",
   "metadata": {},
   "source": [
    "## Scenario: I have lists of data ready with me. I want to add a value to each list(append)\n",
    "### emp_data_1 = [101,\"Raman\"]\n",
    "emp_data_2 = [102,\"Suman\"]\n",
    "\n",
    "These 2 employees are working for \"IT\" department.\n",
    "Write a Function that takes lists as input and appends department details to both the lists\n"
   ]
  },
  {
   "cell_type": "code",
   "execution_count": 14,
   "metadata": {},
   "outputs": [],
   "source": [
    "def appenddata(dept,*lists):\n",
    "    '''\n",
    "    Takes multiple lists as inputs and appends dept data to each list\n",
    "    '''\n",
    "    for l in lists:\n",
    "        l.append(dept)"
   ]
  },
  {
   "cell_type": "code",
   "execution_count": 15,
   "metadata": {},
   "outputs": [],
   "source": [
    "emp_data_1 = [101,\"Raman\"]\n",
    "emp_data_2 = [102,\"Thaman\"]"
   ]
  },
  {
   "cell_type": "code",
   "execution_count": 16,
   "metadata": {},
   "outputs": [],
   "source": [
    "appenddata(\"IT\",emp_data_1,emp_data_2)"
   ]
  },
  {
   "cell_type": "code",
   "execution_count": 17,
   "metadata": {},
   "outputs": [
    {
     "data": {
      "text/plain": [
       "[101, 'Raman', 'IT']"
      ]
     },
     "execution_count": 17,
     "metadata": {},
     "output_type": "execute_result"
    }
   ],
   "source": [
    "emp_data_1"
   ]
  },
  {
   "cell_type": "code",
   "execution_count": 18,
   "metadata": {},
   "outputs": [
    {
     "data": {
      "text/plain": [
       "[102, 'Thaman', 'IT']"
      ]
     },
     "execution_count": 18,
     "metadata": {},
     "output_type": "execute_result"
    }
   ],
   "source": [
    "emp_data_2"
   ]
  },
  {
   "cell_type": "markdown",
   "metadata": {},
   "source": [
    "## Keyword arguments"
   ]
  },
  {
   "cell_type": "code",
   "execution_count": 19,
   "metadata": {},
   "outputs": [],
   "source": [
    "def func1(**kwargs):\n",
    "    print(type(kwargs))"
   ]
  },
  {
   "cell_type": "code",
   "execution_count": 20,
   "metadata": {},
   "outputs": [
    {
     "name": "stdout",
     "output_type": "stream",
     "text": [
      "<class 'dict'>\n"
     ]
    }
   ],
   "source": [
    "func1(id=101)"
   ]
  },
  {
   "cell_type": "code",
   "execution_count": 21,
   "metadata": {},
   "outputs": [],
   "source": [
    "dct = {\n",
    "    \"id\":101\n",
    "}"
   ]
  },
  {
   "cell_type": "code",
   "execution_count": 22,
   "metadata": {},
   "outputs": [
    {
     "data": {
      "text/plain": [
       "dict"
      ]
     },
     "execution_count": 22,
     "metadata": {},
     "output_type": "execute_result"
    }
   ],
   "source": [
    "type(dct)"
   ]
  },
  {
   "cell_type": "code",
   "execution_count": 23,
   "metadata": {},
   "outputs": [
    {
     "data": {
      "text/plain": [
       "dict_keys(['id'])"
      ]
     },
     "execution_count": 23,
     "metadata": {},
     "output_type": "execute_result"
    }
   ],
   "source": [
    "dct.keys()"
   ]
  },
  {
   "cell_type": "code",
   "execution_count": 24,
   "metadata": {},
   "outputs": [
    {
     "data": {
      "text/plain": [
       "dict_values([101])"
      ]
     },
     "execution_count": 24,
     "metadata": {},
     "output_type": "execute_result"
    }
   ],
   "source": [
    "dct.values()"
   ]
  },
  {
   "cell_type": "code",
   "execution_count": 25,
   "metadata": {},
   "outputs": [
    {
     "data": {
      "text/plain": [
       "dict_items([('id', 101)])"
      ]
     },
     "execution_count": 25,
     "metadata": {},
     "output_type": "execute_result"
    }
   ],
   "source": [
    "# key value pair\n",
    "dct.items()"
   ]
  },
  {
   "cell_type": "code",
   "execution_count": 26,
   "metadata": {},
   "outputs": [],
   "source": [
    "def func1(**kwargs):\n",
    "    print(type(kwargs))\n",
    "    print(kwargs.items())"
   ]
  },
  {
   "cell_type": "code",
   "execution_count": 27,
   "metadata": {},
   "outputs": [
    {
     "name": "stdout",
     "output_type": "stream",
     "text": [
      "<class 'dict'>\n",
      "dict_items([('id', 101), ('name', 'Raman'), ('salary', 35000)])\n"
     ]
    }
   ],
   "source": [
    "func1(id=101,name=\"Raman\",salary=35000)"
   ]
  },
  {
   "cell_type": "code",
   "execution_count": 28,
   "metadata": {},
   "outputs": [
    {
     "name": "stdout",
     "output_type": "stream",
     "text": [
      "<class 'dict'>\n",
      "dict_items([('id', 202), ('name', 'Suman')])\n"
     ]
    }
   ],
   "source": [
    "func1(id=202,name=\"Suman\")"
   ]
  },
  {
   "cell_type": "code",
   "execution_count": 29,
   "metadata": {},
   "outputs": [
    {
     "data": {
      "text/plain": [
       "[101, 'Raman', 'IT']"
      ]
     },
     "execution_count": 29,
     "metadata": {},
     "output_type": "execute_result"
    }
   ],
   "source": [
    "emp_data_1"
   ]
  },
  {
   "cell_type": "code",
   "execution_count": 30,
   "metadata": {},
   "outputs": [
    {
     "data": {
      "text/plain": [
       "[102, 'Thaman', 'IT']"
      ]
     },
     "execution_count": 30,
     "metadata": {},
     "output_type": "execute_result"
    }
   ],
   "source": [
    "emp_data_2"
   ]
  },
  {
   "cell_type": "code",
   "execution_count": 31,
   "metadata": {},
   "outputs": [],
   "source": [
    "emp_data_3 = [103,\"Suman\",\"HR\",35000,\"Suman@gmail.com\"]"
   ]
  },
  {
   "cell_type": "code",
   "execution_count": 32,
   "metadata": {},
   "outputs": [],
   "source": [
    "def data_lengths(**kwargs):\n",
    "    dct = {}\n",
    "    for key,value in kwargs.items():\n",
    "        dct[key] = len(value)\n",
    "        # **kwargs: emp1=emp_data_1,emp2=emp_data_2,emp3=emp_data_3\n",
    "        #1 key=emp1,value=emp_data_1\n",
    "        # dct[emp1]=len(emp_data_1)\n",
    "        # this process will repeat 3times\n",
    "    return dct # dct[emp1]=3,dct[emp2]=3,dct[emp3]=5 \n",
    "    # {emp1:3,emp2:3,emp3:5}"
   ]
  },
  {
   "cell_type": "code",
   "execution_count": 33,
   "metadata": {},
   "outputs": [
    {
     "data": {
      "text/plain": [
       "{'emp1': 3, 'emp2': 3, 'emp3': 5}"
      ]
     },
     "execution_count": 33,
     "metadata": {},
     "output_type": "execute_result"
    }
   ],
   "source": [
    "len_data = data_lengths(emp1=emp_data_1,emp2=emp_data_2,emp3=emp_data_3)\n",
    "len_data"
   ]
  },
  {
   "cell_type": "code",
   "execution_count": 34,
   "metadata": {},
   "outputs": [],
   "source": [
    "# If you are providing args and kwargs together, you must give args first \n",
    "def count_args(*args,**kwargs):\n",
    "    return (len(args),len(kwargs))"
   ]
  },
  {
   "cell_type": "code",
   "execution_count": 35,
   "metadata": {},
   "outputs": [
    {
     "data": {
      "text/plain": [
       "(3, 1)"
      ]
     },
     "execution_count": 35,
     "metadata": {},
     "output_type": "execute_result"
    }
   ],
   "source": [
    "count_args(1,2,3,name=\"Baman\")"
   ]
  },
  {
   "cell_type": "code",
   "execution_count": 36,
   "metadata": {},
   "outputs": [
    {
     "data": {
      "text/plain": [
       "(3, 3)"
      ]
     },
     "execution_count": 36,
     "metadata": {},
     "output_type": "execute_result"
    }
   ],
   "source": [
    "count_args(1,4,10,name=\"Baman\",id=102,email=\"baman@gmail.com\")"
   ]
  },
  {
   "cell_type": "markdown",
   "metadata": {},
   "source": [
    "## Scenario: Write a function that determines whether a student has passed or failed the exam"
   ]
  },
  {
   "cell_type": "code",
   "execution_count": 37,
   "metadata": {},
   "outputs": [],
   "source": [
    "def student_passfail(**kwargs):\n",
    "    '''\n",
    "    Takes name and marks for multiple students as input.\n",
    "    Prints whether the student has passed/failed the exam\n",
    "    '''\n",
    "    for name,marks in kwargs.items():\n",
    "        if marks>=35:\n",
    "            pf = \"Passed\"\n",
    "        else:\n",
    "            pf = \"Failed\"\n",
    "        print(f\"Hi {name}, You have {pf}\")"
   ]
  },
  {
   "cell_type": "code",
   "execution_count": 38,
   "metadata": {},
   "outputs": [
    {
     "name": "stdout",
     "output_type": "stream",
     "text": [
      "Hi Raman, You have Failed\n",
      "Hi Thaman, You have Passed\n",
      "Hi Suman, You have Passed\n",
      "Hi Baman, You have Failed\n",
      "Hi Naman, You have Passed\n",
      "Hi Varman, You have Passed\n"
     ]
    }
   ],
   "source": [
    "student_passfail(Raman=34,Thaman=89,Suman=56,Baman=33,Naman=89,Varman=98)"
   ]
  },
  {
   "cell_type": "code",
   "execution_count": 40,
   "metadata": {},
   "outputs": [],
   "source": [
    "def student_passfail2(**kwargs):\n",
    "    '''\n",
    "    Takes name and marks for multiple students as input.\n",
    "    Return dictionary that contains info of the student, whether he/she has passed/failed the exam\n",
    "    '''\n",
    "    dct = {}\n",
    "    for name,marks in kwargs.items():\n",
    "        if marks>=35:\n",
    "            pf = \"Passed\"\n",
    "        else:\n",
    "            pf = \"Failed\"\n",
    "        dct[name] = pf\n",
    "    return dct"
   ]
  },
  {
   "cell_type": "code",
   "execution_count": 41,
   "metadata": {},
   "outputs": [
    {
     "data": {
      "text/plain": [
       "{'Raman': 'Failed',\n",
       " 'Thaman': 'Passed',\n",
       " 'Suman': 'Passed',\n",
       " 'Baman': 'Failed',\n",
       " 'Naman': 'Passed',\n",
       " 'Varman': 'Passed'}"
      ]
     },
     "execution_count": 41,
     "metadata": {},
     "output_type": "execute_result"
    }
   ],
   "source": [
    "passfail_data = student_passfail2(Raman=34,Thaman=89,Suman=56,Baman=33,Naman=89,Varman=98)\n",
    "passfail_data"
   ]
  },
  {
   "cell_type": "code",
   "execution_count": 42,
   "metadata": {},
   "outputs": [
    {
     "name": "stdout",
     "output_type": "stream",
     "text": [
      "Hi Raman, You have Failed\n",
      "Hi Thaman, You have Passed\n",
      "Hi Suman, You have Passed\n",
      "Hi Baman, You have Failed\n",
      "Hi Naman, You have Passed\n",
      "Hi Varman, You have Passed\n"
     ]
    }
   ],
   "source": [
    "for i,j in passfail_data.items():\n",
    "    print(f\"Hi {i}, You have {j}\")"
   ]
  },
  {
   "cell_type": "markdown",
   "metadata": {},
   "source": [
    "## Create a user profile based on details provided to the function"
   ]
  },
  {
   "cell_type": "code",
   "execution_count": 43,
   "metadata": {},
   "outputs": [],
   "source": [
    "user_data = {\n",
    "    \"Username\":\"Raman\",\n",
    "    \"Full Name\": \"Raman GK\",\n",
    "    \"Age\":34,\n",
    "    \"Location\":\"Pune\"\n",
    "}\n"
   ]
  },
  {
   "cell_type": "code",
   "execution_count": 44,
   "metadata": {},
   "outputs": [
    {
     "data": {
      "text/plain": [
       "'Raman'"
      ]
     },
     "execution_count": 44,
     "metadata": {},
     "output_type": "execute_result"
    }
   ],
   "source": [
    "user_data[\"Username\"]"
   ]
  },
  {
   "cell_type": "code",
   "execution_count": 45,
   "metadata": {},
   "outputs": [
    {
     "data": {
      "text/plain": [
       "34"
      ]
     },
     "execution_count": 45,
     "metadata": {},
     "output_type": "execute_result"
    }
   ],
   "source": [
    "user_data[\"Age\"]"
   ]
  },
  {
   "cell_type": "code",
   "execution_count": 46,
   "metadata": {},
   "outputs": [],
   "source": [
    "def create_user(**kwargs):\n",
    "    profile = {}\n",
    "    profile[\"username\"] = kwargs[\"Username\"]\n",
    "    profile[\"Full Name\"] = kwargs[\"FullName\"]\n",
    "    profile[\"Age\"] = kwargs[\"age\"]\n",
    "    profile[\"Location\"] = kwargs[\"location\"]\n",
    "    return profile"
   ]
  },
  {
   "cell_type": "code",
   "execution_count": 47,
   "metadata": {},
   "outputs": [
    {
     "data": {
      "text/plain": [
       "{'username': 'Raman',\n",
       " 'Full Name': 'Raman GK',\n",
       " 'Age': 56,\n",
       " 'Location': 'Kolhapur'}"
      ]
     },
     "execution_count": 47,
     "metadata": {},
     "output_type": "execute_result"
    }
   ],
   "source": [
    "user_profile = create_user(Username=\"Raman\",FullName=\"Raman GK\",age=56,location=\"Kolhapur\")\n",
    "user_profile"
   ]
  },
  {
   "cell_type": "code",
   "execution_count": 48,
   "metadata": {},
   "outputs": [],
   "source": [
    "def create_user_2(**kwargs):\n",
    "    profile = {}\n",
    "    for key,value in kwargs.items():\n",
    "        profile[key] = value\n",
    "    return profile"
   ]
  },
  {
   "cell_type": "code",
   "execution_count": 49,
   "metadata": {},
   "outputs": [
    {
     "data": {
      "text/plain": [
       "{'Username': 'Raman',\n",
       " 'FullName': 'Raman GK',\n",
       " 'age': 56,\n",
       " 'location': 'Kolhapur'}"
      ]
     },
     "execution_count": 49,
     "metadata": {},
     "output_type": "execute_result"
    }
   ],
   "source": [
    "user_profile_2 = create_user_2(Username=\"Raman\",FullName=\"Raman GK\",age=56,location=\"Kolhapur\")\n",
    "user_profile_2"
   ]
  }
 ],
 "metadata": {
  "kernelspec": {
   "display_name": "base",
   "language": "python",
   "name": "python3"
  },
  "language_info": {
   "codemirror_mode": {
    "name": "ipython",
    "version": 3
   },
   "file_extension": ".py",
   "mimetype": "text/x-python",
   "name": "python",
   "nbconvert_exporter": "python",
   "pygments_lexer": "ipython3",
   "version": "3.12.7"
  }
 },
 "nbformat": 4,
 "nbformat_minor": 2
}
